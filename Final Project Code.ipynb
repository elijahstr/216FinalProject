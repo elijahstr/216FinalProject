{
 "cells": [
  {
   "cell_type": "markdown",
   "metadata": {},
   "source": [
    "# Final Project Code\n",
    "\n",
    "We can use this notebook to keep track of all our analysis and conclusions. For now, we should just create dataframes from our processed words. Eventually, we'll import code and stuff from each individual section (i.e. Sentiment Analysis, Heatmaps, etc.)"
   ]
  },
  {
   "cell_type": "code",
   "execution_count": 2,
   "metadata": {},
   "outputs": [],
   "source": [
    "# Importing Libraries\n",
    "import numpy as np\n",
    "import pandas as pd\n",
    "import collections as c\n",
    "import matplotlib as plt\n",
    "import seaborn as sns"
   ]
  },
  {
   "cell_type": "markdown",
   "metadata": {},
   "source": [
    "### Words -> DataFrames\n",
    "\n",
    "For each of our texts, we construct a DataFrame using wordstems as indexes and a column to denote the number of occurrences of a wordstem in the text."
   ]
  },
  {
   "cell_type": "code",
   "execution_count": 50,
   "metadata": {},
   "outputs": [
    {
     "data": {
      "text/html": [
       "<div>\n",
       "<style scoped>\n",
       "    .dataframe tbody tr th:only-of-type {\n",
       "        vertical-align: middle;\n",
       "    }\n",
       "\n",
       "    .dataframe tbody tr th {\n",
       "        vertical-align: top;\n",
       "    }\n",
       "\n",
       "    .dataframe thead th {\n",
       "        text-align: right;\n",
       "    }\n",
       "</style>\n",
       "<table border=\"1\" class=\"dataframe\">\n",
       "  <thead>\n",
       "    <tr style=\"text-align: right;\">\n",
       "      <th></th>\n",
       "      <th>count</th>\n",
       "    </tr>\n",
       "  </thead>\n",
       "  <tbody>\n",
       "    <tr>\n",
       "      <th>right</th>\n",
       "      <td>136</td>\n",
       "    </tr>\n",
       "    <tr>\n",
       "      <th>mind</th>\n",
       "      <td>132</td>\n",
       "    </tr>\n",
       "    <tr>\n",
       "      <th>feel</th>\n",
       "      <td>115</td>\n",
       "    </tr>\n",
       "    <tr>\n",
       "      <th>stress</th>\n",
       "      <td>98</td>\n",
       "    </tr>\n",
       "    <tr>\n",
       "      <th>monk</th>\n",
       "      <td>92</td>\n",
       "    </tr>\n",
       "  </tbody>\n",
       "</table>\n",
       "</div>"
      ],
      "text/plain": [
       "        count\n",
       "right     136\n",
       "mind      132\n",
       "feel      115\n",
       "stress     98\n",
       "monk       92"
      ]
     },
     "execution_count": 50,
     "metadata": {},
     "output_type": "execute_result"
    }
   ],
   "source": [
    "# Four Noble Truths\n",
    "with open(\"Processed_Texts/fournobletruths_words.txt\", encoding='utf8') as f:\n",
    "    words = f.read().splitlines()\n",
    "#print(words) #this is now an array of all the wordstems\n",
    "fnt_string = \" \".join(words)   \n",
    "fnt_count = c.Counter(words)\n",
    "word_freq = dict(c.Counter(words))\n",
    "fnt_df = pd.DataFrame(word_freq.values(), word_freq.keys(), [\"count\"]).sort_values(\"count\", ascending=False)\n",
    "fnt_df.head()"
   ]
  },
  {
   "cell_type": "code",
   "execution_count": 51,
   "metadata": {},
   "outputs": [
    {
     "data": {
      "text/html": [
       "<div>\n",
       "<style scoped>\n",
       "    .dataframe tbody tr th:only-of-type {\n",
       "        vertical-align: middle;\n",
       "    }\n",
       "\n",
       "    .dataframe tbody tr th {\n",
       "        vertical-align: top;\n",
       "    }\n",
       "\n",
       "    .dataframe thead th {\n",
       "        text-align: right;\n",
       "    }\n",
       "</style>\n",
       "<table border=\"1\" class=\"dataframe\">\n",
       "  <thead>\n",
       "    <tr style=\"text-align: right;\">\n",
       "      <th></th>\n",
       "      <th>count</th>\n",
       "    </tr>\n",
       "  </thead>\n",
       "  <tbody>\n",
       "    <tr>\n",
       "      <th>buddha</th>\n",
       "      <td>1375</td>\n",
       "    </tr>\n",
       "    <tr>\n",
       "      <th>dharma</th>\n",
       "      <td>557</td>\n",
       "    </tr>\n",
       "    <tr>\n",
       "      <th>bodhisattva</th>\n",
       "      <td>556</td>\n",
       "    </tr>\n",
       "    <tr>\n",
       "      <th>teach</th>\n",
       "      <td>477</td>\n",
       "    </tr>\n",
       "    <tr>\n",
       "      <th>great</th>\n",
       "      <td>426</td>\n",
       "    </tr>\n",
       "  </tbody>\n",
       "</table>\n",
       "</div>"
      ],
      "text/plain": [
       "             count\n",
       "buddha        1375\n",
       "dharma         557\n",
       "bodhisattva    556\n",
       "teach          477\n",
       "great          426"
      ]
     },
     "execution_count": 51,
     "metadata": {},
     "output_type": "execute_result"
    }
   ],
   "source": [
    "# Lotus Sutra\n",
    "with open(\"Processed_Texts/lotussutra_words.txt\", encoding='utf8') as f:\n",
    "    words = f.read().splitlines()\n",
    "ls_string = \" \".join(words)\n",
    "ls_count = c.Counter(words)\n",
    "word_freq = dict(c.Counter(words))\n",
    "ls_df = pd.DataFrame(word_freq.values(), word_freq.keys(), [\"count\"]).sort_values(\"count\", ascending=False)\n",
    "ls_df.head()"
   ]
  },
  {
   "cell_type": "code",
   "execution_count": 52,
   "metadata": {},
   "outputs": [
    {
     "data": {
      "text/html": [
       "<div>\n",
       "<style scoped>\n",
       "    .dataframe tbody tr th:only-of-type {\n",
       "        vertical-align: middle;\n",
       "    }\n",
       "\n",
       "    .dataframe tbody tr th {\n",
       "        vertical-align: top;\n",
       "    }\n",
       "\n",
       "    .dataframe thead th {\n",
       "        text-align: right;\n",
       "    }\n",
       "</style>\n",
       "<table border=\"1\" class=\"dataframe\">\n",
       "  <thead>\n",
       "    <tr style=\"text-align: right;\">\n",
       "      <th></th>\n",
       "      <th>count</th>\n",
       "    </tr>\n",
       "  </thead>\n",
       "  <tbody>\n",
       "    <tr>\n",
       "      <th>tao</th>\n",
       "      <td>84</td>\n",
       "    </tr>\n",
       "    <tr>\n",
       "      <th>thing</th>\n",
       "      <td>64</td>\n",
       "    </tr>\n",
       "    <tr>\n",
       "      <th>one</th>\n",
       "      <td>52</td>\n",
       "    </tr>\n",
       "    <tr>\n",
       "      <th>know</th>\n",
       "      <td>48</td>\n",
       "    </tr>\n",
       "    <tr>\n",
       "      <th>great</th>\n",
       "      <td>46</td>\n",
       "    </tr>\n",
       "  </tbody>\n",
       "</table>\n",
       "</div>"
      ],
      "text/plain": [
       "       count\n",
       "tao       84\n",
       "thing     64\n",
       "one       52\n",
       "know      48\n",
       "great     46"
      ]
     },
     "execution_count": 52,
     "metadata": {},
     "output_type": "execute_result"
    }
   ],
   "source": [
    "# Tao Te Ching\n",
    "with open(\"Processed_Texts/taoteching_words.txt\", encoding='utf8') as f:\n",
    "    words = f.read().splitlines()\n",
    "ttc_string = \" \".join(words)\n",
    "ttc_count = c.Counter(words)\n",
    "word_freq = dict(c.Counter(words))\n",
    "ttc_df = pd.DataFrame(word_freq.values(), word_freq.keys(), [\"count\"]).sort_values(\"count\", ascending=False)\n",
    "ttc_df.head()"
   ]
  },
  {
   "cell_type": "code",
   "execution_count": 53,
   "metadata": {},
   "outputs": [
    {
     "data": {
      "text/html": [
       "<div>\n",
       "<style scoped>\n",
       "    .dataframe tbody tr th:only-of-type {\n",
       "        vertical-align: middle;\n",
       "    }\n",
       "\n",
       "    .dataframe tbody tr th {\n",
       "        vertical-align: top;\n",
       "    }\n",
       "\n",
       "    .dataframe thead th {\n",
       "        text-align: right;\n",
       "    }\n",
       "</style>\n",
       "<table border=\"1\" class=\"dataframe\">\n",
       "  <thead>\n",
       "    <tr style=\"text-align: right;\">\n",
       "      <th></th>\n",
       "      <th>count</th>\n",
       "    </tr>\n",
       "  </thead>\n",
       "  <tbody>\n",
       "    <tr>\n",
       "      <th>one</th>\n",
       "      <td>110</td>\n",
       "    </tr>\n",
       "    <tr>\n",
       "      <th>know</th>\n",
       "      <td>100</td>\n",
       "    </tr>\n",
       "    <tr>\n",
       "      <th>self</th>\n",
       "      <td>85</td>\n",
       "    </tr>\n",
       "    <tr>\n",
       "      <th>mind</th>\n",
       "      <td>81</td>\n",
       "    </tr>\n",
       "    <tr>\n",
       "      <th>brahman</th>\n",
       "      <td>76</td>\n",
       "    </tr>\n",
       "  </tbody>\n",
       "</table>\n",
       "</div>"
      ],
      "text/plain": [
       "         count\n",
       "one        110\n",
       "know       100\n",
       "self        85\n",
       "mind        81\n",
       "brahman     76"
      ]
     },
     "execution_count": 53,
     "metadata": {},
     "output_type": "execute_result"
    }
   ],
   "source": [
    "# Upanishads\n",
    "with open(\"Processed_Texts/upanishads_words.txt\", encoding='utf8') as f:\n",
    "    words = f.read().splitlines()\n",
    "\n",
    "u_string = \" \".join(words)\n",
    "word_freq = dict(c.Counter(words))\n",
    "u_df = pd.DataFrame(word_freq.values(), word_freq.keys(), [\"count\"]).sort_values(\"count\", ascending=False)\n",
    "u_df.head()"
   ]
  },
  {
   "cell_type": "code",
   "execution_count": 7,
   "metadata": {},
   "outputs": [
    {
     "data": {
      "text/html": [
       "<div>\n",
       "<style scoped>\n",
       "    .dataframe tbody tr th:only-of-type {\n",
       "        vertical-align: middle;\n",
       "    }\n",
       "\n",
       "    .dataframe tbody tr th {\n",
       "        vertical-align: top;\n",
       "    }\n",
       "\n",
       "    .dataframe thead th {\n",
       "        text-align: right;\n",
       "    }\n",
       "</style>\n",
       "<table border=\"1\" class=\"dataframe\">\n",
       "  <thead>\n",
       "    <tr style=\"text-align: right;\">\n",
       "      <th></th>\n",
       "      <th>count</th>\n",
       "    </tr>\n",
       "  </thead>\n",
       "  <tbody>\n",
       "    <tr>\n",
       "      <th>spiritu</th>\n",
       "      <td>322</td>\n",
       "    </tr>\n",
       "    <tr>\n",
       "      <th>man</th>\n",
       "      <td>245</td>\n",
       "    </tr>\n",
       "    <tr>\n",
       "      <th>power</th>\n",
       "      <td>198</td>\n",
       "    </tr>\n",
       "    <tr>\n",
       "      <th>life</th>\n",
       "      <td>156</td>\n",
       "    </tr>\n",
       "    <tr>\n",
       "      <th>conscious</th>\n",
       "      <td>149</td>\n",
       "    </tr>\n",
       "  </tbody>\n",
       "</table>\n",
       "</div>"
      ],
      "text/plain": [
       "           count\n",
       "spiritu      322\n",
       "man          245\n",
       "power        198\n",
       "life         156\n",
       "conscious    149"
      ]
     },
     "execution_count": 7,
     "metadata": {},
     "output_type": "execute_result"
    }
   ],
   "source": [
    "# Yogasutras\n",
    "with open(\"Processed_Texts/yogasutras_words.txt\", encoding='utf8') as f:\n",
    "    words = f.read().splitlines()\n",
    "\n",
    "ys_string = \" \".join(words)\n",
    "word_freq = dict(c.Counter(words))\n",
    "ys_df = pd.DataFrame(word_freq.values(), word_freq.keys(), [\"count\"]).sort_values(\"count\", ascending=False)\n",
    "ys_df.head()"
   ]
  },
  {
   "cell_type": "markdown",
   "metadata": {},
   "source": [
    "### Sentiment Analysis"
   ]
  },
  {
   "cell_type": "code",
   "execution_count": null,
   "metadata": {},
   "outputs": [],
   "source": []
  },
  {
   "cell_type": "code",
   "execution_count": null,
   "metadata": {},
   "outputs": [],
   "source": []
  },
  {
   "cell_type": "code",
   "execution_count": null,
   "metadata": {},
   "outputs": [],
   "source": []
  },
  {
   "cell_type": "code",
   "execution_count": null,
   "metadata": {},
   "outputs": [],
   "source": []
  },
  {
   "cell_type": "code",
   "execution_count": null,
   "metadata": {},
   "outputs": [],
   "source": []
  },
  {
   "cell_type": "markdown",
   "metadata": {},
   "source": [
    "### Heatmaps/Text Visualizations"
   ]
  },
  {
   "cell_type": "code",
   "execution_count": 10,
   "metadata": {},
   "outputs": [],
   "source": [
    "books = [fnt_string,ttc_string, u_string, ls_string, ys_string]"
   ]
  },
  {
   "cell_type": "code",
   "execution_count": 11,
   "metadata": {},
   "outputs": [
    {
     "name": "stdout",
     "output_type": "stream",
     "text": [
      "[('ys_0', 'fnt_1'), ('ys_0', 'ttc_2'), ('ys_0', 'up_3'), ('ys_0', 'ls_4'), ('fnt_1', 'ttc_2'), ('fnt_1', 'up_3'), ('fnt_1', 'ls_4'), ('ttc_2', 'up_3'), ('ttc_2', 'ls_4'), ('up_3', 'ls_4')]\n"
     ]
    }
   ],
   "source": [
    "book_names = [\"ys_0\", \"fnt_1\", \"ttc_2\", \"up_3\", \"ls_4\"]\n",
    "pairs = []\n",
    "for i, v in enumerate(book_names):\n",
    "    for j in book_names[i+1:]:\n",
    "        pairs.append((book_names[i], j))\n",
    "print(pairs)"
   ]
  },
  {
   "cell_type": "code",
   "execution_count": 12,
   "metadata": {},
   "outputs": [
    {
     "data": {
      "text/plain": [
       "array([0.        , 0.        , 0.        , ..., 0.00183686, 0.        ,\n",
       "       0.        ])"
      ]
     },
     "metadata": {},
     "output_type": "display_data"
    }
   ],
   "source": [
    "from sklearn.feature_extraction.text import TfidfVectorizer\n",
    "\n",
    "vectorizer = TfidfVectorizer(min_df=0.0, max_df=1.0, ngram_range=(1,1))\n",
    "# calculate the feature matrix\n",
    "feature_matrix = vectorizer.fit_transform(books).astype(float)\n",
    "display(feature_matrix.toarray()[4])"
   ]
  },
  {
   "cell_type": "code",
   "execution_count": 13,
   "metadata": {},
   "outputs": [],
   "source": [
    "def compute_cosine_similarity(pair):\n",
    "    \n",
    "    # extract the indexes from the pair\n",
    "    book1, book2 = pair\n",
    "    \n",
    "    # split on _ and get index\n",
    "    book1_index = int(book1.split(\"_\")[1])\n",
    "    book2_index = int(book2.split(\"_\")[1])\n",
    "        \n",
    "    # get the feature matrix of the document\n",
    "    book1_fm = feature_matrix.toarray()[book1_index]\n",
    "    \n",
    "    book2_fm = feature_matrix.toarray()[book2_index]\n",
    "    \n",
    "    # compute cosine similarity manually\n",
    "    manual_cosine_similarity = np.dot(book1_fm, book2_fm)\n",
    "    \n",
    "    return manual_cosine_similarity"
   ]
  },
  {
   "cell_type": "code",
   "execution_count": 14,
   "metadata": {},
   "outputs": [
    {
     "data": {
      "text/html": [
       "<div>\n",
       "<style scoped>\n",
       "    .dataframe tbody tr th:only-of-type {\n",
       "        vertical-align: middle;\n",
       "    }\n",
       "\n",
       "    .dataframe tbody tr th {\n",
       "        vertical-align: top;\n",
       "    }\n",
       "\n",
       "    .dataframe thead th {\n",
       "        text-align: right;\n",
       "    }\n",
       "</style>\n",
       "<table border=\"1\" class=\"dataframe\">\n",
       "  <thead>\n",
       "    <tr style=\"text-align: right;\">\n",
       "      <th></th>\n",
       "      <th>pair</th>\n",
       "      <th>similarity</th>\n",
       "    </tr>\n",
       "  </thead>\n",
       "  <tbody>\n",
       "    <tr>\n",
       "      <th>0</th>\n",
       "      <td>(ys_0, fnt_1)</td>\n",
       "      <td>0.191506</td>\n",
       "    </tr>\n",
       "    <tr>\n",
       "      <th>1</th>\n",
       "      <td>(ys_0, ttc_2)</td>\n",
       "      <td>0.279178</td>\n",
       "    </tr>\n",
       "    <tr>\n",
       "      <th>2</th>\n",
       "      <td>(ys_0, up_3)</td>\n",
       "      <td>0.135430</td>\n",
       "    </tr>\n",
       "    <tr>\n",
       "      <th>3</th>\n",
       "      <td>(ys_0, ls_4)</td>\n",
       "      <td>0.243019</td>\n",
       "    </tr>\n",
       "    <tr>\n",
       "      <th>4</th>\n",
       "      <td>(fnt_1, ttc_2)</td>\n",
       "      <td>0.339055</td>\n",
       "    </tr>\n",
       "    <tr>\n",
       "      <th>5</th>\n",
       "      <td>(fnt_1, up_3)</td>\n",
       "      <td>0.159170</td>\n",
       "    </tr>\n",
       "    <tr>\n",
       "      <th>6</th>\n",
       "      <td>(fnt_1, ls_4)</td>\n",
       "      <td>0.275577</td>\n",
       "    </tr>\n",
       "    <tr>\n",
       "      <th>7</th>\n",
       "      <td>(ttc_2, up_3)</td>\n",
       "      <td>0.196266</td>\n",
       "    </tr>\n",
       "    <tr>\n",
       "      <th>8</th>\n",
       "      <td>(ttc_2, ls_4)</td>\n",
       "      <td>0.454150</td>\n",
       "    </tr>\n",
       "    <tr>\n",
       "      <th>9</th>\n",
       "      <td>(up_3, ls_4)</td>\n",
       "      <td>0.151803</td>\n",
       "    </tr>\n",
       "  </tbody>\n",
       "</table>\n",
       "</div>"
      ],
      "text/plain": [
       "             pair  similarity\n",
       "0   (ys_0, fnt_1)    0.191506\n",
       "1   (ys_0, ttc_2)    0.279178\n",
       "2    (ys_0, up_3)    0.135430\n",
       "3    (ys_0, ls_4)    0.243019\n",
       "4  (fnt_1, ttc_2)    0.339055\n",
       "5   (fnt_1, up_3)    0.159170\n",
       "6   (fnt_1, ls_4)    0.275577\n",
       "7   (ttc_2, up_3)    0.196266\n",
       "8   (ttc_2, ls_4)    0.454150\n",
       "9    (up_3, ls_4)    0.151803"
      ]
     },
     "execution_count": 14,
     "metadata": {},
     "output_type": "execute_result"
    }
   ],
   "source": [
    "pairwise_cosine_similarity = [compute_cosine_similarity(pair) for pair in pairs]\n",
    "\n",
    "# create a dataframe\n",
    "df = pd.DataFrame({'pair': pairs, 'similarity': pairwise_cosine_similarity})\n",
    "df\n",
    "# display(df.tail())"
   ]
  },
  {
   "cell_type": "code",
   "execution_count": 57,
   "metadata": {
    "scrolled": true
   },
   "outputs": [
    {
     "data": {
      "text/html": [
       "<div>\n",
       "<style scoped>\n",
       "    .dataframe tbody tr th:only-of-type {\n",
       "        vertical-align: middle;\n",
       "    }\n",
       "\n",
       "    .dataframe tbody tr th {\n",
       "        vertical-align: top;\n",
       "    }\n",
       "\n",
       "    .dataframe thead th {\n",
       "        text-align: right;\n",
       "    }\n",
       "</style>\n",
       "<table border=\"1\" class=\"dataframe\">\n",
       "  <thead>\n",
       "    <tr style=\"text-align: right;\">\n",
       "      <th></th>\n",
       "      <th>Yoga Sutra</th>\n",
       "      <th>Four Noble Truths</th>\n",
       "      <th>Tao Te Ching</th>\n",
       "      <th>Upanishads</th>\n",
       "      <th>Lotus Sutra</th>\n",
       "    </tr>\n",
       "    <tr>\n",
       "      <th>ind</th>\n",
       "      <th></th>\n",
       "      <th></th>\n",
       "      <th></th>\n",
       "      <th></th>\n",
       "      <th></th>\n",
       "    </tr>\n",
       "  </thead>\n",
       "  <tbody>\n",
       "    <tr>\n",
       "      <th>Yoga Sutra</th>\n",
       "      <td>0.00</td>\n",
       "      <td>0.00</td>\n",
       "      <td>0.00</td>\n",
       "      <td>0.00</td>\n",
       "      <td>0.0</td>\n",
       "    </tr>\n",
       "    <tr>\n",
       "      <th>Four Noble Truths</th>\n",
       "      <td>0.19</td>\n",
       "      <td>0.00</td>\n",
       "      <td>0.00</td>\n",
       "      <td>0.00</td>\n",
       "      <td>0.0</td>\n",
       "    </tr>\n",
       "    <tr>\n",
       "      <th>Tao Te Ching</th>\n",
       "      <td>0.28</td>\n",
       "      <td>0.34</td>\n",
       "      <td>0.00</td>\n",
       "      <td>0.00</td>\n",
       "      <td>0.0</td>\n",
       "    </tr>\n",
       "    <tr>\n",
       "      <th>Upanishads</th>\n",
       "      <td>0.14</td>\n",
       "      <td>0.16</td>\n",
       "      <td>0.20</td>\n",
       "      <td>0.00</td>\n",
       "      <td>0.0</td>\n",
       "    </tr>\n",
       "    <tr>\n",
       "      <th>Lotus Sutra</th>\n",
       "      <td>0.24</td>\n",
       "      <td>0.28</td>\n",
       "      <td>0.45</td>\n",
       "      <td>0.15</td>\n",
       "      <td>0.0</td>\n",
       "    </tr>\n",
       "  </tbody>\n",
       "</table>\n",
       "</div>"
      ],
      "text/plain": [
       "                   Yoga Sutra  Four Noble Truths  Tao Te Ching  Upanishads  \\\n",
       "ind                                                                          \n",
       "Yoga Sutra               0.00               0.00          0.00        0.00   \n",
       "Four Noble Truths        0.19               0.00          0.00        0.00   \n",
       "Tao Te Ching             0.28               0.34          0.00        0.00   \n",
       "Upanishads               0.14               0.16          0.20        0.00   \n",
       "Lotus Sutra              0.24               0.28          0.45        0.15   \n",
       "\n",
       "                   Lotus Sutra  \n",
       "ind                             \n",
       "Yoga Sutra                 0.0  \n",
       "Four Noble Truths          0.0  \n",
       "Tao Te Ching               0.0  \n",
       "Upanishads                 0.0  \n",
       "Lotus Sutra                0.0  "
      ]
     },
     "execution_count": 57,
     "metadata": {},
     "output_type": "execute_result"
    }
   ],
   "source": [
    "# from utils import plot_heatmap\n",
    "\n",
    "# initialize an empty dataframe grid\n",
    "df_hm = pd.DataFrame({'ind': range(5), 'cols': range(5), 'vals': pd.Series(np.zeros(5))})\n",
    "\n",
    "# convert to a matrix\n",
    "df_hm = df_hm.pivot(index='ind', columns='cols').fillna(0)\n",
    "\n",
    "# make a copy\n",
    "df_temp = df.copy()\n",
    "\n",
    "# convert list of tuples into 2 lists\n",
    "list1 = []\n",
    "list2 = []\n",
    "for item1, item2 in df_temp.pair:\n",
    "    list1.append(item1)\n",
    "    list2.append(item2)\n",
    "\n",
    "# add two columns to df_temp\n",
    "df_temp['book1'] = list1\n",
    "df_temp['book2'] = list2\n",
    "\n",
    "# drop the pair as it not needed\n",
    "df_temp.drop('pair', axis=1, inplace=True)\n",
    "\n",
    "# extract index so that you can construct pairs\n",
    "df_temp['book1'] = df_temp['book1'].apply(lambda x: int(x.split('_')[-1]))\n",
    "df_temp['book2'] = df_temp['book2'].apply(lambda x: int(x.split('_')[-1]))\n",
    "\n",
    "# create tuples (0, 1, similarity)\n",
    "df_temp['pairs'] = list(zip(df_temp.book1, df_temp.book2, round(df_temp.similarity, 2)))\n",
    "\n",
    "# display(df_temp.head())\n",
    "\n",
    "# to get lower diagnol, swap the rows and cols.\n",
    "for row, col, similarity in df_temp.pairs:\n",
    "    df_hm.iloc[col, row] = similarity\n",
    "\n",
    "df_hm.columns = ['Yoga Sutra','Four Noble Truths','Tao Te Ching','Upanishads', 'Lotus Sutra']\n",
    "df_hm.rename(index={0:'Yoga Sutra',1:'Four Noble Truths', 2: 'Tao Te Ching', 3: 'Upanishads', 4: 'Lotus Sutra'}, inplace=True)\n",
    "df_hm"
   ]
  },
  {
   "cell_type": "code",
   "execution_count": 58,
   "metadata": {},
   "outputs": [
    {
     "data": {
      "image/png": "[encoded data removed]",
      "text/plain": [
       "<Figure size 720x576 with 2 Axes>"
      ]
     },
     "metadata": {
      "needs_background": "light"
     },
     "output_type": "display_data"
    }
   ],
   "source": [
    "#reference- https://towardsdatascience.com/heatmap-basics-with-pythons-seaborn-fb92ea280a6c\n",
    "fig, ax = plt.subplots(figsize=(10, 8))\n",
    "# mask\n",
    "mask = np.triu(np.ones_like(df_hm, dtype=np.bool))\n",
    "# adjust mask and df\n",
    "mask = mask[1:, :-1]\n",
    "sim = df_hm.iloc[1:,:-1].copy()\n",
    "# plot heatmap\n",
    "sns.heatmap(sim, mask=mask, annot=True, fmt=\".2f\", cmap='Reds',\n",
    "           vmin=0, vmax=.5, cbar_kws={\"shrink\": .8})\n",
    "#title \n",
    "title = 'Cosine Similarity Matrix\\nOf The 5 Religious Texts\\n'\n",
    "plt.title(title, loc='left', fontsize=18)\n",
    "# yticks\n",
    "plt.yticks(rotation=0)\n",
    "plt.show()"
   ]
  },
  {
   "cell_type": "markdown",
   "metadata": {},
   "source": [
    "### Other Analyses"
   ]
  },
  {
   "cell_type": "code",
   "execution_count": 22,
   "metadata": {},
   "outputs": [
    {
     "name": "stdout",
     "output_type": "stream",
     "text": [
      "Four Noble Truths \n",
      "         count\n",
      "right     136\n",
      "mind      132\n",
      "feel      115\n",
      "stress     98\n",
      "monk       92 \n",
      "\n",
      "\n",
      "Lotus Sutra \n",
      "              count\n",
      "buddha        1375\n",
      "dharma         557\n",
      "bodhisattva    556\n",
      "teach          477\n",
      "great          426 \n",
      "\n",
      "\n",
      "Tao Te Ching \n",
      "        count\n",
      "tao       84\n",
      "thing     64\n",
      "one       52\n",
      "know      48\n",
      "great     46 \n",
      "\n",
      "\n",
      "Upanishads \n",
      "          count\n",
      "one        110\n",
      "know       100\n",
      "self        85\n",
      "mind        81\n",
      "brahman     76 \n",
      "\n",
      "\n",
      "Yoga Sutra \n",
      "            count\n",
      "spiritu      322\n",
      "man          245\n",
      "power        198\n",
      "life         156\n",
      "conscious    149 \n",
      "\n",
      "\n"
     ]
    }
   ],
   "source": [
    "all_dfs = [fnt_df, ls_df, ttc_df, u_df, ys_df]\n",
    "all_df_names = [\"Four Noble Truths\", \"Lotus Sutra\", \"Tao Te Ching\", \"Upanishads\", \"Yoga Sutra\"]\n",
    "\n",
    "for i, df in enumerate(all_dfs):\n",
    "    print(all_df_names[i], \"\\n\", df.head(), \"\\n\\n\")"
   ]
  },
  {
   "cell_type": "markdown",
   "metadata": {},
   "source": [
    "#### Number of Relevant Words in Texts"
   ]
  },
  {
   "cell_type": "code",
   "execution_count": 104,
   "metadata": {},
   "outputs": [],
   "source": [
    "num_words = pd.DataFrame()\n",
    "\n",
    "for i, df in enumerate(all_dfs):\n",
    "    to_add = pd.DataFrame([[all_df_names[i], df.shape[0], df[\"count\"].sum()]], columns=[\"book\",\"num_words\",\"count_words\"])\n",
    "    num_words = pd.concat([num_words, to_add], ignore_index=True)\n",
    "\n",
    "#num_words.head()"
   ]
  },
  {
   "cell_type": "code",
   "execution_count": 102,
   "metadata": {},
   "outputs": [
    {
     "data": {
      "text/plain": [
       "<seaborn.axisgrid.FacetGrid at 0x27e76e605e0>"
      ]
     },
     "execution_count": 102,
     "metadata": {},
     "output_type": "execute_result"
    },
    {
     "data": {
      "image/png": "[encoded data removed]",
      "text/plain": [
       "<Figure size 360x360 with 1 Axes>"
      ]
     },
     "metadata": {
      "needs_background": "light"
     },
     "output_type": "display_data"
    }
   ],
   "source": [
    "num_words_plot = sns.catplot(data=num_words.sort_values(\"num_words\"), y=\"book\", x=\"num_words\", kind=\"bar\", height=5, palette=\"rocket\")\n",
    "num_words_plot.set(ylabel=\"Book\", title=\"Number of Relevant Words\")"
   ]
  },
  {
   "cell_type": "code",
   "execution_count": 103,
   "metadata": {},
   "outputs": [
    {
     "data": {
      "text/plain": [
       "<seaborn.axisgrid.FacetGrid at 0x27e76ec6be0>"
      ]
     },
     "execution_count": 103,
     "metadata": {},
     "output_type": "execute_result"
    },
    {
     "data": {
      "image/png": "[encoded data removed]",
      "text/plain": [
       "<Figure size 360x360 with 1 Axes>"
      ]
     },
     "metadata": {
      "needs_background": "light"
     },
     "output_type": "display_data"
    }
   ],
   "source": [
    "num_words_plot = sns.catplot(data=num_words.sort_values(\"count_words\"), y=\"book\", x=\"count_words\", kind=\"bar\", height=5, palette=\"mako\")\n",
    "num_words_plot.set(ylabel=\"Book\", title=\"Total Count of Relevant Words\")"
   ]
  },
  {
   "cell_type": "markdown",
   "metadata": {},
   "source": [
    "#### Most Common Words Across all Texts"
   ]
  },
  {
   "cell_type": "code",
   "execution_count": 61,
   "metadata": {},
   "outputs": [],
   "source": [
    "# Normalizing frequency of words and finding most common words across all texts\n",
    "common_words = pd.DataFrame()\n",
    "\n",
    "for df in all_dfs:\n",
    "    # normalized series are given by: df[\"count\"] / (df[\"count\"].sum())\n",
    "    common_words = common_words.merge((df[\"count\"] / (df[\"count\"].sum())).to_frame(),\n",
    "                                      how='outer', \n",
    "                                      left_index=True,\n",
    "                                      right_index=True)\n",
    "\n",
    "# each column is normalized frequency for each text, so we sum across all rows\n",
    "common_words[\"normalized_freq\"] = common_words.sum(axis=1)\n",
    "\n",
    "# we only keep the column with sums and normalize that as well (divide by 5, for the number of total texts)\n",
    "common_words = common_words[[\"normalized_freq\",]].sort_values(\"normalized_freq\", ascending=False)\n",
    "common_words = common_words / common_words.sum()\n",
    "\n",
    "# get words into a column for ease in plotting\n",
    "common_words = common_words.reset_index()\n",
    "\n",
    "#common_words.head()"
   ]
  },
  {
   "cell_type": "code",
   "execution_count": 93,
   "metadata": {},
   "outputs": [
    {
     "data": {
      "text/plain": [
       "<seaborn.axisgrid.FacetGrid at 0x27e763eef10>"
      ]
     },
     "execution_count": 93,
     "metadata": {},
     "output_type": "execute_result"
    },
    {
     "data": {
      "image/png": "[encoded data removed]",
      "text/plain": [
       "<Figure size 720x720 with 1 Axes>"
      ]
     },
     "metadata": {
      "needs_background": "light"
     },
     "output_type": "display_data"
    }
   ],
   "source": [
    "# Normalized Frequencies Across all Texts\n",
    "n = 30\n",
    "all_texts_freq = sns.catplot(data=common_words[:n], y=\"index\", x=\"normalized_freq\", kind=\"bar\", height=10, palette=\"rocket\")\n",
    "all_texts_freq.set(xlabel=\"Frequency\", ylabel=\"Word\", title=\"Normalized Frequencies Across all Texts (Aggregated)\")"
   ]
  },
  {
   "cell_type": "markdown",
   "metadata": {},
   "source": [
    "#### Most Significant Words in Each Text"
   ]
  },
  {
   "cell_type": "code",
   "execution_count": 63,
   "metadata": {},
   "outputs": [],
   "source": [
    "# Most Significant Words\n",
    "sig_words = pd.DataFrame()\n",
    "\n",
    "for i, df in enumerate(all_dfs):\n",
    "    to_add = (df[\"count\"]/(df[\"count\"].sum())).to_frame().reset_index()\n",
    "    to_add[\"book\"] = all_df_names[i]\n",
    "    sig_words = pd.concat([sig_words, to_add])\n",
    "    \n",
    "    # DataFrame already has book name, word, and frequency, we also add a tuple to combine word and book\n",
    "sig_words[\"word_in_book\"] = list(zip(sig_words[\"index\"], sig_words[\"book\"]))\n",
    "    \n",
    "sig_words = sig_words.sort_values(\"count\", ascending=False)\n",
    "#sig_words.head(30)"
   ]
  },
  {
   "cell_type": "code",
   "execution_count": 92,
   "metadata": {},
   "outputs": [
    {
     "data": {
      "text/plain": [
       "<seaborn.axisgrid.FacetGrid at 0x27e74ca25b0>"
      ]
     },
     "execution_count": 92,
     "metadata": {},
     "output_type": "execute_result"
    },
    {
     "data": {
      "image/png": "[encoded data removed]",
      "text/plain": [
       "<Figure size 720x720 with 1 Axes>"
      ]
     },
     "metadata": {
      "needs_background": "light"
     },
     "output_type": "display_data"
    }
   ],
   "source": [
    "n = 30\n",
    "significant_words_plot = sns.catplot(data=sig_words[:n], y=\"word_in_book\", x=\"count\", kind=\"bar\", height=10, palette=\"mako\")\n",
    "significant_words_plot.set(xlabel=\"Frequency\", ylabel=\"Word, Book\", title=\"Normalized Frequencies Across all Texts (Not Aggregated)\")"
   ]
  },
  {
   "cell_type": "code",
   "execution_count": 81,
   "metadata": {
    "scrolled": false
   },
   "outputs": [
    {
     "data": {
      "image/png": "[encoded data removed]",
      "text/plain": [
       "<Figure size 360x360 with 1 Axes>"
      ]
     },
     "metadata": {
      "needs_background": "light"
     },
     "output_type": "display_data"
    },
    {
     "data": {
      "image/png": "[encoded data removed]",
      "text/plain": [
       "<Figure size 360x360 with 1 Axes>"
      ]
     },
     "metadata": {
      "needs_background": "light"
     },
     "output_type": "display_data"
    },
    {
     "data": {
      "image/png": "[encoded data removed]",
      "text/plain": [
       "<Figure size 360x360 with 1 Axes>"
      ]
     },
     "metadata": {
      "needs_background": "light"
     },
     "output_type": "display_data"
    },
    {
     "data": {
      "image/png": "[encoded data removed]",
      "text/plain": [
       "<Figure size 360x360 with 1 Axes>"
      ]
     },
     "metadata": {
      "needs_background": "light"
     },
     "output_type": "display_data"
    },
    {
     "data": {
      "image/png": "[encoded data removed]",
      "text/plain": [
       "<Figure size 360x360 with 1 Axes>"
      ]
     },
     "metadata": {
      "needs_background": "light"
     },
     "output_type": "display_data"
    }
   ],
   "source": [
    "# k Most Common Words in Each Text\n",
    "\n",
    "# k is number of words you'd like to display per text\n",
    "# q is number of words from previous graph you'd like to highlight\n",
    "k = 15\n",
    "q = 3\n",
    "\n",
    "clrs = sns.color_palette(\"mako\")[1:6]\n",
    "for i, name in enumerate(all_df_names):\n",
    "    dt=sig_words[sig_words[\"book\"]==name][:k]\n",
    "    sig_words_in_book_plot = sns.catplot(data=dt, y=\"index\", x=\"count\", kind=\"bar\", \n",
    "                                         palette=[\"red\" if word in common_words[\"index\"][:q].values else clrs[i] for word in dt[\"index\"].values])\n",
    "    sig_words_in_book_plot.set(xlabel=\"Frequency\", ylabel=\"Word\", title=name)"
   ]
  },
  {
   "cell_type": "code",
   "execution_count": null,
   "metadata": {},
   "outputs": [],
   "source": []
  },
  {
   "cell_type": "code",
   "execution_count": null,
   "metadata": {},
   "outputs": [],
   "source": []
  },
  {
   "cell_type": "code",
   "execution_count": null,
   "metadata": {},
   "outputs": [],
   "source": []
  }
 ],
 "metadata": {
  "kernelspec": {
   "display_name": "Python 3",
   "language": "python",
   "name": "python3"
  },
  "language_info": {
   "codemirror_mode": {
    "name": "ipython",
    "version": 3
   },
   "file_extension": ".py",
   "mimetype": "text/x-python",
   "name": "python",
   "nbconvert_exporter": "python",
   "pygments_lexer": "ipython3",
   "version": "3.8.5"
  }
 },
 "nbformat": 4,
 "nbformat_minor": 4
}
