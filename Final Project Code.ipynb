{
 "cells": [
  {
   "cell_type": "markdown",
   "metadata": {},
   "source": [
    "# Final Project Code\n",
    "\n",
    "We can use this notebook to keep track of all our analysis and conclusions. For now, we should just create dataframes from our processed words. Eventually, we'll import code and stuff from each individual section (i.e. Sentiment Analysis, Heatmaps, etc.)"
   ]
  },
  {
   "cell_type": "code",
   "execution_count": 17,
   "metadata": {},
   "outputs": [],
   "source": [
    "# Importing Libraries\n",
    "import numpy as np\n",
    "import pandas as pd\n",
    "import collections as c\n",
    "import matplotlib"
   ]
  },
  {
   "cell_type": "markdown",
   "metadata": {},
   "source": [
    "### Words -> DataFrames\n",
    "\n",
    "For each of our texts, we construct a DataFrame using wordstems as indexes and a column to denote the number of occurrences of a wordstem in the text."
   ]
  },
  {
   "cell_type": "code",
   "execution_count": 2,
   "metadata": {},
   "outputs": [
    {
     "data": {
      "text/html": [
       "<div>\n",
       "<style scoped>\n",
       "    .dataframe tbody tr th:only-of-type {\n",
       "        vertical-align: middle;\n",
       "    }\n",
       "\n",
       "    .dataframe tbody tr th {\n",
       "        vertical-align: top;\n",
       "    }\n",
       "\n",
       "    .dataframe thead th {\n",
       "        text-align: right;\n",
       "    }\n",
       "</style>\n",
       "<table border=\"1\" class=\"dataframe\">\n",
       "  <thead>\n",
       "    <tr style=\"text-align: right;\">\n",
       "      <th></th>\n",
       "      <th>count</th>\n",
       "    </tr>\n",
       "  </thead>\n",
       "  <tbody>\n",
       "    <tr>\n",
       "      <th>right</th>\n",
       "      <td>136</td>\n",
       "    </tr>\n",
       "    <tr>\n",
       "      <th>mind</th>\n",
       "      <td>132</td>\n",
       "    </tr>\n",
       "    <tr>\n",
       "      <th>feel</th>\n",
       "      <td>115</td>\n",
       "    </tr>\n",
       "    <tr>\n",
       "      <th>stress</th>\n",
       "      <td>98</td>\n",
       "    </tr>\n",
       "    <tr>\n",
       "      <th>monk</th>\n",
       "      <td>92</td>\n",
       "    </tr>\n",
       "  </tbody>\n",
       "</table>\n",
       "</div>"
      ],
      "text/plain": [
       "        count\n",
       "right     136\n",
       "mind      132\n",
       "feel      115\n",
       "stress     98\n",
       "monk       92"
      ]
     },
     "execution_count": 2,
     "metadata": {},
     "output_type": "execute_result"
    }
   ],
   "source": [
    "# Four Noble Truths\n",
    "with open(\"Processed_Texts/fournobletruths_words.txt\", encoding='utf8') as f:\n",
    "    words = f.read().splitlines()\n",
    "#print(words) #this is now an array of all the wordstems\n",
    "fnt_string = \" \".join(words)   \n",
    "fnt_count = c.Counter(words)\n",
    "word_freq = dict(c.Counter(words))\n",
    "fnt_df = pd.DataFrame(word_freq.values(), word_freq.keys(), [\"count\"]).sort_values(\"count\", ascending=False)\n",
    "fnt_df.head()"
   ]
  },
  {
   "cell_type": "code",
   "execution_count": 3,
   "metadata": {},
   "outputs": [
    {
     "data": {
      "text/html": [
       "<div>\n",
       "<style scoped>\n",
       "    .dataframe tbody tr th:only-of-type {\n",
       "        vertical-align: middle;\n",
       "    }\n",
       "\n",
       "    .dataframe tbody tr th {\n",
       "        vertical-align: top;\n",
       "    }\n",
       "\n",
       "    .dataframe thead th {\n",
       "        text-align: right;\n",
       "    }\n",
       "</style>\n",
       "<table border=\"1\" class=\"dataframe\">\n",
       "  <thead>\n",
       "    <tr style=\"text-align: right;\">\n",
       "      <th></th>\n",
       "      <th>count</th>\n",
       "    </tr>\n",
       "  </thead>\n",
       "  <tbody>\n",
       "    <tr>\n",
       "      <th>buddha</th>\n",
       "      <td>1375</td>\n",
       "    </tr>\n",
       "    <tr>\n",
       "      <th>dharma</th>\n",
       "      <td>557</td>\n",
       "    </tr>\n",
       "    <tr>\n",
       "      <th>bodhisattva</th>\n",
       "      <td>556</td>\n",
       "    </tr>\n",
       "    <tr>\n",
       "      <th>teach</th>\n",
       "      <td>477</td>\n",
       "    </tr>\n",
       "    <tr>\n",
       "      <th>great</th>\n",
       "      <td>426</td>\n",
       "    </tr>\n",
       "  </tbody>\n",
       "</table>\n",
       "</div>"
      ],
      "text/plain": [
       "             count\n",
       "buddha        1375\n",
       "dharma         557\n",
       "bodhisattva    556\n",
       "teach          477\n",
       "great          426"
      ]
     },
     "execution_count": 3,
     "metadata": {},
     "output_type": "execute_result"
    }
   ],
   "source": [
    "# Lotus Sutra\n",
    "with open(\"Processed_Texts/lotussutra_words.txt\", encoding='utf8') as f:\n",
    "    words = f.read().splitlines()\n",
    "ls_string = \" \".join(words)\n",
    "ls_count = c.Counter(words)\n",
    "word_freq = dict(c.Counter(words))\n",
    "ls_df = pd.DataFrame(word_freq.values(), word_freq.keys(), [\"count\"]).sort_values(\"count\", ascending=False)\n",
    "ls_df.head()"
   ]
  },
  {
   "cell_type": "code",
   "execution_count": 4,
   "metadata": {},
   "outputs": [
    {
     "data": {
      "text/html": [
       "<div>\n",
       "<style scoped>\n",
       "    .dataframe tbody tr th:only-of-type {\n",
       "        vertical-align: middle;\n",
       "    }\n",
       "\n",
       "    .dataframe tbody tr th {\n",
       "        vertical-align: top;\n",
       "    }\n",
       "\n",
       "    .dataframe thead th {\n",
       "        text-align: right;\n",
       "    }\n",
       "</style>\n",
       "<table border=\"1\" class=\"dataframe\">\n",
       "  <thead>\n",
       "    <tr style=\"text-align: right;\">\n",
       "      <th></th>\n",
       "      <th>count</th>\n",
       "    </tr>\n",
       "  </thead>\n",
       "  <tbody>\n",
       "    <tr>\n",
       "      <th>tao</th>\n",
       "      <td>84</td>\n",
       "    </tr>\n",
       "    <tr>\n",
       "      <th>thing</th>\n",
       "      <td>64</td>\n",
       "    </tr>\n",
       "    <tr>\n",
       "      <th>one</th>\n",
       "      <td>52</td>\n",
       "    </tr>\n",
       "    <tr>\n",
       "      <th>know</th>\n",
       "      <td>48</td>\n",
       "    </tr>\n",
       "    <tr>\n",
       "      <th>great</th>\n",
       "      <td>46</td>\n",
       "    </tr>\n",
       "  </tbody>\n",
       "</table>\n",
       "</div>"
      ],
      "text/plain": [
       "       count\n",
       "tao       84\n",
       "thing     64\n",
       "one       52\n",
       "know      48\n",
       "great     46"
      ]
     },
     "execution_count": 4,
     "metadata": {},
     "output_type": "execute_result"
    }
   ],
   "source": [
    "# Tao Te Ching\n",
    "with open(\"Processed_Texts/taoteching_words.txt\", encoding='utf8') as f:\n",
    "    words = f.read().splitlines()\n",
    "ttc_string = \" \".join(words)\n",
    "ttc_count = c.Counter(words)\n",
    "word_freq = dict(c.Counter(words))\n",
    "ttc_df = pd.DataFrame(word_freq.values(), word_freq.keys(), [\"count\"]).sort_values(\"count\", ascending=False)\n",
    "ttc_df.head()"
   ]
  },
  {
   "cell_type": "code",
   "execution_count": 5,
   "metadata": {},
   "outputs": [
    {
     "data": {
      "text/html": [
       "<div>\n",
       "<style scoped>\n",
       "    .dataframe tbody tr th:only-of-type {\n",
       "        vertical-align: middle;\n",
       "    }\n",
       "\n",
       "    .dataframe tbody tr th {\n",
       "        vertical-align: top;\n",
       "    }\n",
       "\n",
       "    .dataframe thead th {\n",
       "        text-align: right;\n",
       "    }\n",
       "</style>\n",
       "<table border=\"1\" class=\"dataframe\">\n",
       "  <thead>\n",
       "    <tr style=\"text-align: right;\">\n",
       "      <th></th>\n",
       "      <th>count</th>\n",
       "    </tr>\n",
       "  </thead>\n",
       "  <tbody>\n",
       "    <tr>\n",
       "      <th>one</th>\n",
       "      <td>110</td>\n",
       "    </tr>\n",
       "    <tr>\n",
       "      <th>know</th>\n",
       "      <td>100</td>\n",
       "    </tr>\n",
       "    <tr>\n",
       "      <th>self</th>\n",
       "      <td>85</td>\n",
       "    </tr>\n",
       "    <tr>\n",
       "      <th>mind</th>\n",
       "      <td>81</td>\n",
       "    </tr>\n",
       "    <tr>\n",
       "      <th>brahman</th>\n",
       "      <td>76</td>\n",
       "    </tr>\n",
       "  </tbody>\n",
       "</table>\n",
       "</div>"
      ],
      "text/plain": [
       "         count\n",
       "one        110\n",
       "know       100\n",
       "self        85\n",
       "mind        81\n",
       "brahman     76"
      ]
     },
     "execution_count": 5,
     "metadata": {},
     "output_type": "execute_result"
    }
   ],
   "source": [
    "# Upanishads\n",
    "with open(\"Processed_Texts/upanishads_words.txt\", encoding='utf8') as f:\n",
    "    words = f.read().splitlines()\n",
    "\n",
    "u_string = \" \".join(words)\n",
    "word_freq = dict(c.Counter(words))\n",
    "u_df = pd.DataFrame(word_freq.values(), word_freq.keys(), [\"count\"]).sort_values(\"count\", ascending=False)\n",
    "u_df.head()"
   ]
  },
  {
   "cell_type": "code",
   "execution_count": 6,
   "metadata": {},
   "outputs": [
    {
     "data": {
      "text/html": [
       "<div>\n",
       "<style scoped>\n",
       "    .dataframe tbody tr th:only-of-type {\n",
       "        vertical-align: middle;\n",
       "    }\n",
       "\n",
       "    .dataframe tbody tr th {\n",
       "        vertical-align: top;\n",
       "    }\n",
       "\n",
       "    .dataframe thead th {\n",
       "        text-align: right;\n",
       "    }\n",
       "</style>\n",
       "<table border=\"1\" class=\"dataframe\">\n",
       "  <thead>\n",
       "    <tr style=\"text-align: right;\">\n",
       "      <th></th>\n",
       "      <th>count</th>\n",
       "    </tr>\n",
       "  </thead>\n",
       "  <tbody>\n",
       "    <tr>\n",
       "      <th>spiritu</th>\n",
       "      <td>322</td>\n",
       "    </tr>\n",
       "    <tr>\n",
       "      <th>man</th>\n",
       "      <td>245</td>\n",
       "    </tr>\n",
       "    <tr>\n",
       "      <th>power</th>\n",
       "      <td>198</td>\n",
       "    </tr>\n",
       "    <tr>\n",
       "      <th>life</th>\n",
       "      <td>156</td>\n",
       "    </tr>\n",
       "    <tr>\n",
       "      <th>conscious</th>\n",
       "      <td>149</td>\n",
       "    </tr>\n",
       "  </tbody>\n",
       "</table>\n",
       "</div>"
      ],
      "text/plain": [
       "           count\n",
       "spiritu      322\n",
       "man          245\n",
       "power        198\n",
       "life         156\n",
       "conscious    149"
      ]
     },
     "execution_count": 6,
     "metadata": {},
     "output_type": "execute_result"
    }
   ],
   "source": [
    "# Yogasutras\n",
    "with open(\"Processed_Texts/yogasutras_words.txt\", encoding='utf8') as f:\n",
    "    words = f.read().splitlines()\n",
    "\n",
    "ys_string = \" \".join(words)\n",
    "word_freq = dict(c.Counter(words))\n",
    "ys_df = pd.DataFrame(word_freq.values(), word_freq.keys(), [\"count\"]).sort_values(\"count\", ascending=False)\n",
    "ys_df.head()"
   ]
  },
  {
   "cell_type": "markdown",
   "metadata": {},
   "source": [
    "### Sentiment Analysis"
   ]
  },
  {
   "cell_type": "code",
   "execution_count": null,
   "metadata": {},
   "outputs": [],
   "source": []
  },
  {
   "cell_type": "code",
   "execution_count": null,
   "metadata": {},
   "outputs": [],
   "source": []
  },
  {
   "cell_type": "code",
   "execution_count": null,
   "metadata": {},
   "outputs": [],
   "source": []
  },
  {
   "cell_type": "code",
   "execution_count": null,
   "metadata": {},
   "outputs": [],
   "source": []
  },
  {
   "cell_type": "code",
   "execution_count": null,
   "metadata": {},
   "outputs": [],
   "source": []
  },
  {
   "cell_type": "markdown",
   "metadata": {},
   "source": [
    "### Heatmaps/Text Visualizations"
   ]
  },
  {
   "cell_type": "code",
   "execution_count": 7,
   "metadata": {},
   "outputs": [
    {
     "data": {
      "text/plain": [
       "0.20894492369253445"
      ]
     },
     "execution_count": 7,
     "metadata": {},
     "output_type": "execute_result"
    }
   ],
   "source": [
    "# https://stackoverflow.com/questions/28819272/python-how-to-calculate-the-cosine-similarity-of-two-word-lists\n",
    "# convert to word-vectors\n",
    "words  = list(fnt_count.keys() | ls_count.keys())\n",
    "fnt_vect = [fnt_count.get(word, 0) for word in words]       \n",
    "ls_vext = [ls_count.get(word, 0) for word in words]        \n",
    "\n",
    "# find cosine\n",
    "len_a  = sum(av*av for av in fnt_vect) ** 0.5            \n",
    "len_b  = sum(bv*bv for bv in ls_vext) ** 0.5             \n",
    "dot    = sum(av*bv for av,bv in zip(fnt_vect, ls_vext))   \n",
    "cosine = dot / (len_a * len_b)                          \n",
    "cosine"
   ]
  },
  {
   "cell_type": "code",
   "execution_count": 8,
   "metadata": {},
   "outputs": [
    {
     "data": {
      "text/plain": [
       "0.2917583276957685"
      ]
     },
     "execution_count": 8,
     "metadata": {},
     "output_type": "execute_result"
    }
   ],
   "source": [
    "# convert to word-vectors\n",
    "words  = list(ttc_count.keys() | ls_count.keys())\n",
    "ttc_vect = [ttc_count.get(word, 0) for word in words]       \n",
    "ls_vext = [ls_count.get(word, 0) for word in words]        \n",
    "\n",
    "# find cosine\n",
    "len_a  = sum(av*av for av in ttc_vect) ** 0.5            \n",
    "len_b  = sum(bv*bv for bv in ls_vext) ** 0.5             \n",
    "dot    = sum(av*bv for av,bv in zip(ttc_vect, ls_vext))   \n",
    "cosine = dot / (len_a * len_b)                          \n",
    "cosine"
   ]
  },
  {
   "cell_type": "code",
   "execution_count": 9,
   "metadata": {},
   "outputs": [],
   "source": [
    "books = [fnt_string,ttc_string, u_string, ls_string, ys_string]"
   ]
  },
  {
   "cell_type": "code",
   "execution_count": 10,
   "metadata": {},
   "outputs": [
    {
     "name": "stdout",
     "output_type": "stream",
     "text": [
      "[('ys_0', 'fnt_1'), ('ys_0', 'ttc_2'), ('ys_0', 'up_3'), ('ys_0', 'ls_4'), ('fnt_1', 'ttc_2'), ('fnt_1', 'up_3'), ('fnt_1', 'ls_4'), ('ttc_2', 'up_3'), ('ttc_2', 'ls_4'), ('up_3', 'ls_4')]\n"
     ]
    }
   ],
   "source": [
    "book_names = [\"ys_0\", \"fnt_1\", \"ttc_2\", \"up_3\", \"ls_4\"]\n",
    "pairs = []\n",
    "for i, v in enumerate(book_names):\n",
    "    for j in book_names[i+1:]:\n",
    "        pairs.append((book_names[i], j))\n",
    "print(pairs)"
   ]
  },
  {
   "cell_type": "code",
   "execution_count": 11,
   "metadata": {},
   "outputs": [
    {
     "data": {
      "text/plain": [
       "array([0.        , 0.        , 0.        , ..., 0.00183686, 0.        ,\n",
       "       0.        ])"
      ]
     },
     "metadata": {},
     "output_type": "display_data"
    }
   ],
   "source": [
    "from sklearn.feature_extraction.text import TfidfVectorizer\n",
    "\n",
    "vectorizer = TfidfVectorizer(min_df=0.0, max_df=1.0, ngram_range=(1,1))\n",
    "# calculate the feature matrix\n",
    "feature_matrix = vectorizer.fit_transform(books).astype(float)\n",
    "display(feature_matrix.toarray()[4])"
   ]
  },
  {
   "cell_type": "code",
   "execution_count": 12,
   "metadata": {},
   "outputs": [],
   "source": [
    "def compute_cosine_similarity(pair):\n",
    "    \n",
    "    # extract the indexes from the pair\n",
    "    book1, book2 = pair\n",
    "    \n",
    "    # split on _ and get index\n",
    "    book1_index = int(book1.split(\"_\")[1])\n",
    "    book2_index = int(book2.split(\"_\")[1])\n",
    "        \n",
    "    # get the feature matrix of the document\n",
    "    book1_fm = feature_matrix.toarray()[book1_index]\n",
    "    \n",
    "    book2_fm = feature_matrix.toarray()[book2_index]\n",
    "    \n",
    "    # compute cosine similarity manually\n",
    "    manual_cosine_similarity = np.dot(book1_fm, book2_fm)\n",
    "    \n",
    "    return manual_cosine_similarity"
   ]
  },
  {
   "cell_type": "code",
   "execution_count": 21,
   "metadata": {},
   "outputs": [
    {
     "data": {
      "text/html": [
       "<div>\n",
       "<style scoped>\n",
       "    .dataframe tbody tr th:only-of-type {\n",
       "        vertical-align: middle;\n",
       "    }\n",
       "\n",
       "    .dataframe tbody tr th {\n",
       "        vertical-align: top;\n",
       "    }\n",
       "\n",
       "    .dataframe thead th {\n",
       "        text-align: right;\n",
       "    }\n",
       "</style>\n",
       "<table border=\"1\" class=\"dataframe\">\n",
       "  <thead>\n",
       "    <tr style=\"text-align: right;\">\n",
       "      <th></th>\n",
       "      <th>pair</th>\n",
       "      <th>similarity</th>\n",
       "    </tr>\n",
       "  </thead>\n",
       "  <tbody>\n",
       "    <tr>\n",
       "      <th>0</th>\n",
       "      <td>(ys_0, fnt_1)</td>\n",
       "      <td>0.191506</td>\n",
       "    </tr>\n",
       "    <tr>\n",
       "      <th>1</th>\n",
       "      <td>(ys_0, ttc_2)</td>\n",
       "      <td>0.279178</td>\n",
       "    </tr>\n",
       "    <tr>\n",
       "      <th>2</th>\n",
       "      <td>(ys_0, up_3)</td>\n",
       "      <td>0.135430</td>\n",
       "    </tr>\n",
       "    <tr>\n",
       "      <th>3</th>\n",
       "      <td>(ys_0, ls_4)</td>\n",
       "      <td>0.243019</td>\n",
       "    </tr>\n",
       "    <tr>\n",
       "      <th>4</th>\n",
       "      <td>(fnt_1, ttc_2)</td>\n",
       "      <td>0.339055</td>\n",
       "    </tr>\n",
       "    <tr>\n",
       "      <th>5</th>\n",
       "      <td>(fnt_1, up_3)</td>\n",
       "      <td>0.159170</td>\n",
       "    </tr>\n",
       "    <tr>\n",
       "      <th>6</th>\n",
       "      <td>(fnt_1, ls_4)</td>\n",
       "      <td>0.275577</td>\n",
       "    </tr>\n",
       "    <tr>\n",
       "      <th>7</th>\n",
       "      <td>(ttc_2, up_3)</td>\n",
       "      <td>0.196266</td>\n",
       "    </tr>\n",
       "    <tr>\n",
       "      <th>8</th>\n",
       "      <td>(ttc_2, ls_4)</td>\n",
       "      <td>0.454150</td>\n",
       "    </tr>\n",
       "    <tr>\n",
       "      <th>9</th>\n",
       "      <td>(up_3, ls_4)</td>\n",
       "      <td>0.151803</td>\n",
       "    </tr>\n",
       "  </tbody>\n",
       "</table>\n",
       "</div>"
      ],
      "text/plain": [
       "             pair  similarity\n",
       "0   (ys_0, fnt_1)    0.191506\n",
       "1   (ys_0, ttc_2)    0.279178\n",
       "2    (ys_0, up_3)    0.135430\n",
       "3    (ys_0, ls_4)    0.243019\n",
       "4  (fnt_1, ttc_2)    0.339055\n",
       "5   (fnt_1, up_3)    0.159170\n",
       "6   (fnt_1, ls_4)    0.275577\n",
       "7   (ttc_2, up_3)    0.196266\n",
       "8   (ttc_2, ls_4)    0.454150\n",
       "9    (up_3, ls_4)    0.151803"
      ]
     },
     "execution_count": 21,
     "metadata": {},
     "output_type": "execute_result"
    }
   ],
   "source": [
    "pairwise_cosine_similarity = [compute_cosine_similarity(pair) for pair in pairs]\n",
    "\n",
    "# create a dataframe\n",
    "df = pd.DataFrame({'pair': pairs, 'similarity': pairwise_cosine_similarity})\n",
    "df\n",
    "# display(df.tail())"
   ]
  },
  {
   "cell_type": "code",
   "execution_count": 22,
   "metadata": {
    "scrolled": true
   },
   "outputs": [
    {
     "data": {
      "text/html": [
       "<div>\n",
       "<style scoped>\n",
       "    .dataframe tbody tr th:only-of-type {\n",
       "        vertical-align: middle;\n",
       "    }\n",
       "\n",
       "    .dataframe tbody tr th {\n",
       "        vertical-align: top;\n",
       "    }\n",
       "\n",
       "    .dataframe thead tr th {\n",
       "        text-align: left;\n",
       "    }\n",
       "\n",
       "    .dataframe thead tr:last-of-type th {\n",
       "        text-align: right;\n",
       "    }\n",
       "</style>\n",
       "<table border=\"1\" class=\"dataframe\">\n",
       "  <thead>\n",
       "    <tr>\n",
       "      <th></th>\n",
       "      <th colspan=\"5\" halign=\"left\">vals</th>\n",
       "    </tr>\n",
       "    <tr>\n",
       "      <th>cols</th>\n",
       "      <th>0</th>\n",
       "      <th>1</th>\n",
       "      <th>2</th>\n",
       "      <th>3</th>\n",
       "      <th>4</th>\n",
       "    </tr>\n",
       "    <tr>\n",
       "      <th>ind</th>\n",
       "      <th></th>\n",
       "      <th></th>\n",
       "      <th></th>\n",
       "      <th></th>\n",
       "      <th></th>\n",
       "    </tr>\n",
       "  </thead>\n",
       "  <tbody>\n",
       "    <tr>\n",
       "      <th>0</th>\n",
       "      <td>0.00</td>\n",
       "      <td>0.00</td>\n",
       "      <td>0.00</td>\n",
       "      <td>0.00</td>\n",
       "      <td>0.0</td>\n",
       "    </tr>\n",
       "    <tr>\n",
       "      <th>1</th>\n",
       "      <td>0.19</td>\n",
       "      <td>0.00</td>\n",
       "      <td>0.00</td>\n",
       "      <td>0.00</td>\n",
       "      <td>0.0</td>\n",
       "    </tr>\n",
       "    <tr>\n",
       "      <th>2</th>\n",
       "      <td>0.28</td>\n",
       "      <td>0.34</td>\n",
       "      <td>0.00</td>\n",
       "      <td>0.00</td>\n",
       "      <td>0.0</td>\n",
       "    </tr>\n",
       "    <tr>\n",
       "      <th>3</th>\n",
       "      <td>0.14</td>\n",
       "      <td>0.16</td>\n",
       "      <td>0.20</td>\n",
       "      <td>0.00</td>\n",
       "      <td>0.0</td>\n",
       "    </tr>\n",
       "    <tr>\n",
       "      <th>4</th>\n",
       "      <td>0.24</td>\n",
       "      <td>0.28</td>\n",
       "      <td>0.45</td>\n",
       "      <td>0.15</td>\n",
       "      <td>0.0</td>\n",
       "    </tr>\n",
       "  </tbody>\n",
       "</table>\n",
       "</div>"
      ],
      "text/plain": [
       "      vals                       \n",
       "cols     0     1     2     3    4\n",
       "ind                              \n",
       "0     0.00  0.00  0.00  0.00  0.0\n",
       "1     0.19  0.00  0.00  0.00  0.0\n",
       "2     0.28  0.34  0.00  0.00  0.0\n",
       "3     0.14  0.16  0.20  0.00  0.0\n",
       "4     0.24  0.28  0.45  0.15  0.0"
      ]
     },
     "execution_count": 22,
     "metadata": {},
     "output_type": "execute_result"
    }
   ],
   "source": [
    "# from utils import plot_heatmap\n",
    "\n",
    "# initialize an empty dataframe grid\n",
    "df_hm = pd.DataFrame({'ind': range(5), 'cols': range(5), 'vals': pd.Series(np.zeros(5))})\n",
    "\n",
    "# convert to a matrix\n",
    "df_hm = df_hm.pivot(index='ind', columns='cols').fillna(0)\n",
    "\n",
    "# make a copy\n",
    "df_temp = df.copy()\n",
    "\n",
    "# convert list of tuples into 2 lists\n",
    "list1 = []\n",
    "list2 = []\n",
    "for item1, item2 in df_temp.pair:\n",
    "    list1.append(item1)\n",
    "    list2.append(item2)\n",
    "\n",
    "# add two columns to df_temp\n",
    "df_temp['book1'] = list1\n",
    "df_temp['book2'] = list2\n",
    "\n",
    "# drop the pair as it not needed\n",
    "df_temp.drop('pair', axis=1, inplace=True)\n",
    "\n",
    "# extract index so that you can construct pairs\n",
    "df_temp['book1'] = df_temp['book1'].apply(lambda x: int(x.split('_')[-1]))\n",
    "df_temp['book2'] = df_temp['book2'].apply(lambda x: int(x.split('_')[-1]))\n",
    "\n",
    "# create tuples (0, 1, similarity)\n",
    "df_temp['pairs'] = list(zip(df_temp.book1, df_temp.book2, round(df_temp.similarity, 2)))\n",
    "\n",
    "# display(df_temp.head())\n",
    "\n",
    "# to get lower diagnol, swap the rows and cols.\n",
    "for row, col, similarity in df_temp.pairs:\n",
    "    df_hm.iloc[col, row] = similarity\n",
    "\n",
    "# ax = plot_heatmap(df_hm, ids, ids)\n",
    "df_hm"
   ]
  },
  {
   "cell_type": "markdown",
   "metadata": {},
   "source": [
    "### Word Distances"
   ]
  },
  {
   "cell_type": "code",
   "execution_count": null,
   "metadata": {},
   "outputs": [],
   "source": []
  },
  {
   "cell_type": "code",
   "execution_count": null,
   "metadata": {},
   "outputs": [],
   "source": []
  },
  {
   "cell_type": "code",
   "execution_count": null,
   "metadata": {},
   "outputs": [],
   "source": []
  },
  {
   "cell_type": "code",
   "execution_count": null,
   "metadata": {},
   "outputs": [],
   "source": []
  }
 ],
 "metadata": {
  "kernelspec": {
   "display_name": "Python 3",
   "language": "python",
   "name": "python3"
  },
  "language_info": {
   "codemirror_mode": {
    "name": "ipython",
    "version": 3
   },
   "file_extension": ".py",
   "mimetype": "text/x-python",
   "name": "python",
   "nbconvert_exporter": "python",
   "pygments_lexer": "ipython3",
   "version": "3.8.5"
  }
 },
 "nbformat": 4,
 "nbformat_minor": 4
}
