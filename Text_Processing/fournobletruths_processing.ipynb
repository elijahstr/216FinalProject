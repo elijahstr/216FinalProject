{
 "cells": [
  {
   "cell_type": "markdown",
   "metadata": {},
   "source": [
    "# \"Four Noble Truths\" Processing\n",
    "\n",
    "The raw text file is already in the right form...in terms of stuff related to the source/website the text is from being taken out. There's still the whole introduction, headers like \"§ 1.The Buddha: 'What do you think, Rahula: What is a mirror for?'\",  and verse enumerations like \"-MN 61\" which we can remove to just get the text."
   ]
  },
  {
   "cell_type": "code",
   "execution_count": 1,
   "metadata": {},
   "outputs": [],
   "source": [
    "# The variable 'text' will have the full raw text\n",
    "\n",
    "with open(\"../Raw_Texts/fournobletruths.txt\", encoding='utf8') as f:\n",
    "    text = f.read()\n",
    "    \n",
    "#text"
   ]
  },
  {
   "cell_type": "code",
   "execution_count": 2,
   "metadata": {},
   "outputs": [
    {
     "data": {
      "text/plain": [
       "'20.\\n\"First there is the knowledge of the steadfastness of the Dhamma (dependent co-arising), after which there is the knowledge of Unbinding.\"\\n\\n— SN 12.70\\n\\n'"
      ]
     },
     "execution_count": 2,
     "metadata": {},
     "output_type": "execute_result"
    }
   ],
   "source": [
    "# First, we split the text into all its verses\n",
    "\n",
    "verses = text.split(\"§ \")\n",
    "#verses[0]  This is the introduction\n",
    "\n",
    "# To remove the introduction, we just get rid of the first element\n",
    "verses = verses[1:]\n",
    "\n",
    "# Here's an example of the current output\n",
    "min(verses, key=len)"
   ]
  },
  {
   "cell_type": "code",
   "execution_count": 3,
   "metadata": {},
   "outputs": [
    {
     "data": {
      "text/plain": [
       "'\"First there is the knowledge of the steadfastness of the Dhamma (dependent co-arising), after which there is the knowledge of Unbinding.\"'"
      ]
     },
     "execution_count": 3,
     "metadata": {},
     "output_type": "execute_result"
    }
   ],
   "source": [
    "# Next, we remove the beginnings and ends of each verse, for which we will use regular expressions\n",
    "import re\n",
    "\n",
    "begin = re.compile(\"([0-9]+\\.[ \\n]+)\")\n",
    "end = re.compile(\"([\\n]+— [A-Za-z]+ [0-9.]+[ \\n]*)\")\n",
    "\n",
    "\"\"\"\n",
    "i = 0\n",
    "for verse in verses:\n",
    "    i += 1\n",
    "    print([np for np in re.finditer(end, verse)])\n",
    "\n",
    "print(i-len(verses))    \n",
    "\"\"\"\n",
    "\n",
    "for i, verse in enumerate(verses):\n",
    "    begin_index = re.search(begin, verse).end()\n",
    "    end_index = re.search(end, verse).start()\n",
    "    verses[i] = verse[begin_index : end_index]\n",
    "\n",
    "# Again, here's an example of the current output\n",
    "min(verses, key=len)"
   ]
  },
  {
   "cell_type": "code",
   "execution_count": 4,
   "metadata": {},
   "outputs": [],
   "source": [
    "# Lastly, we write to a new text file\n",
    "final_text = \"\\n\".join(verses)\n",
    "\n",
    "with open(\"fournobletruths.txt\", \"w\", encoding='utf8') as f:\n",
    "    f.write(final_text)"
   ]
  }
 ],
 "metadata": {
  "kernelspec": {
   "display_name": "Python 3",
   "language": "python",
   "name": "python3"
  },
  "language_info": {
   "codemirror_mode": {
    "name": "ipython",
    "version": 3
   },
   "file_extension": ".py",
   "mimetype": "text/x-python",
   "name": "python",
   "nbconvert_exporter": "python",
   "pygments_lexer": "ipython3",
   "version": "3.8.5"
  }
 },
 "nbformat": 4,
 "nbformat_minor": 4
}
